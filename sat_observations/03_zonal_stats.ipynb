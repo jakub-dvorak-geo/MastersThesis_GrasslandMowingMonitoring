{
 "cells": [
  {
   "cell_type": "code",
   "execution_count": 12,
   "id": "44d7e4a2-131f-429d-a1ae-5281ebda3277",
   "metadata": {
    "tags": []
   },
   "outputs": [],
   "source": [
    "import geopandas as gpd\n",
    "import rasterio as rio\n",
    "\n",
    "import rasterstats\n",
    "\n",
    "import matplotlib.pyplot as plt\n",
    "from rasterio.plot import show\n",
    "\n",
    "from os.path import join\n",
    "from os import listdir\n",
    "from glob import glob"
   ]
  },
  {
   "cell_type": "code",
   "execution_count": 2,
   "id": "49602338-785d-4fef-a61e-ead9a9c81034",
   "metadata": {},
   "outputs": [],
   "source": [
    "ROOT_DIR = 'f:/datasets/NATUR_CUNI'\n",
    "stats = ['mean', 'median', 'std', 'count']"
   ]
  },
  {
   "cell_type": "markdown",
   "id": "7a757505-a96c-4024-b8e4-48ab4391595c",
   "metadata": {},
   "source": [
    "## Testing raster statistics"
   ]
  },
  {
   "cell_type": "code",
   "execution_count": 3,
   "id": "f24fa634-3615-4f80-93a3-e29d3d287040",
   "metadata": {},
   "outputs": [],
   "source": [
    "def compute_zonal_stats_one_orbit(root_dir, raster_dir, stats_gdf, stats=['mean']):\n",
    "    # Get raster filenames\n",
    "    raster_dir = join(raster_dir)\n",
    "    rasters_list = glob('coh_*.tif', root_dir=raster_dir)\n",
    "    \n",
    "    print(f'Processing {len(rasters_list)} rasters:')\n",
    "    # loop through all coherence rasters\n",
    "    for raster in rasters_list:\n",
    "        print(raster)\n",
    "        \n",
    "        # Read raster array and transform\n",
    "        raster_path = join(raster_dir, raster)\n",
    "        with rio.open(raster_path) as src:\n",
    "            arr = src.read()\n",
    "            affine = src.transform\n",
    "\n",
    "        # compute zonal statistics for individual polarizations\n",
    "        for idx_band, pol in enumerate(('VH', 'VV')):\n",
    "            prefix = f'{pol}_RO{}_{raster[4:8]}_{raster[8:12]}-{raster[17:21]}_'\n",
    "\n",
    "            stats_list = rasterstats.zonal_stats(stats_gdf, arr[idx_band,:,:], affine=affine, geojson_out=True, prefix=prefix, stats=stats, nodata=-1)\n",
    "            stats_gdf = gpd.GeoDataFrame.from_features(stats_list, crs=stats_gdf.crs)\n",
    "\n",
    "    print('Zonal stats successfuly computed.')\n",
    "    return stats_gdf"
   ]
  },
  {
   "cell_type": "code",
   "execution_count": 4,
   "id": "52cadb4a-d691-4568-9647-2c2ee8df1a1b",
   "metadata": {},
   "outputs": [],
   "source": [
    "def compute_zonal_stats_all_orbits(year_dir, gdf_vector, stats):\n",
    "    for ro_dir in os.listdir(year_dir):#glob(f'{year_dir}/*'):\n",
    "        print(f'Relative orbit: {ro_dir}')\n",
    "        gdf_vector = compute_zonal_stats_one_orbit(ro_dir, gdf_vector, stats)\n",
    "    return gdf_vector"
   ]
  },
  {
   "cell_type": "code",
   "execution_count": 10,
   "id": "dd0cd62b-f628-4676-bffd-d164557ff700",
   "metadata": {},
   "outputs": [],
   "source": [
    "def zonal_stats_all(root, stats=['mean'], years=(2021, 2022)):\n",
    "    for year in years:\n",
    "        in_vector  = join(ROOT_DIR, f'reference/{year}/vyjezdy_{year}_4326_singlepart.gpkg')\n",
    "        out_vector = join(ROOT_DIR, f'reference/{year}/vyjezdy_{year}_zonal_stats.gpkg')\n",
    "        raster_dir = join(ROOT_DIR, f's1_coherence/{year}')\n",
    "    \n",
    "        print(f'Year: {year}')\n",
    "        gdf_in = gpd.read_file(in_vector)\n",
    "        gdf_out = compute_zonal_stats_all_orbits(raster_dir, gdf_in, stats)\n",
    "        gdf_out.to_file(out_vector)"
   ]
  },
  {
   "cell_type": "code",
   "execution_count": 11,
   "id": "835ddcac-9d6c-4fab-a618-a0b2af383193",
   "metadata": {},
   "outputs": [
    {
     "name": "stdout",
     "output_type": "stream",
     "text": [
      "Year: 2021\n",
      "Relative orbit: f:/datasets/NATUR_CUNI\\s1_coherence/2021\\146\n",
      "Processing 15 rasters:\n",
      "coh_20210505_20210511.tif\n",
      "coh_20210511_20210517.tif\n",
      "coh_20210517_20210523.tif\n",
      "coh_20210523_20210529.tif\n",
      "coh_20210529_20210604.tif\n",
      "coh_20210604_20210610.tif\n",
      "coh_20210610_20210616.tif\n",
      "coh_20210616_20210622.tif\n",
      "coh_20210622_20210628.tif\n",
      "coh_20210628_20210704.tif\n",
      "coh_20210704_20210710.tif\n",
      "coh_20210710_20210716.tif\n",
      "coh_20210716_20210722.tif\n",
      "coh_20210722_20210728.tif\n",
      "coh_20210728_20210803.tif\n",
      "Zonal stats successfuly computed.\n"
     ]
    }
   ],
   "source": [
    "zonal_stats_all(ROOT_DIR, stats=stats, years=(2021,))"
   ]
  },
  {
   "cell_type": "code",
   "execution_count": null,
   "id": "33b76465-1aa9-45a3-a613-167730f36980",
   "metadata": {},
   "outputs": [],
   "source": []
  }
 ],
 "metadata": {
  "kernelspec": {
   "display_name": "Python 3 (ipykernel)",
   "language": "python",
   "name": "python3"
  },
  "language_info": {
   "codemirror_mode": {
    "name": "ipython",
    "version": 3
   },
   "file_extension": ".py",
   "mimetype": "text/x-python",
   "name": "python",
   "nbconvert_exporter": "python",
   "pygments_lexer": "ipython3",
   "version": "3.10.6"
  }
 },
 "nbformat": 4,
 "nbformat_minor": 5
}
