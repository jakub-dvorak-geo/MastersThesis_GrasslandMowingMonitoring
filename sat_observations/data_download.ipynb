{
 "cells": [
  {
   "cell_type": "markdown",
   "id": "accepted-monaco",
   "metadata": {},
   "source": [
    "doplnit graf zobrazujici data porizeni snimku"
   ]
  },
  {
   "cell_type": "code",
   "execution_count": null,
   "id": "affecting-alloy",
   "metadata": {},
   "outputs": [],
   "source": [
    "# import libraries\n",
    "import sentinelsat\n",
    "from osgeo import ogr\n",
    "import geopandas\n",
    "import matplotlib.pyplot as plt\n",
    "\n",
    "from os import listdir\n",
    "from os.path import join"
   ]
  },
  {
   "cell_type": "code",
   "execution_count": null,
   "id": "unable-macintosh",
   "metadata": {},
   "outputs": [],
   "source": [
    "# read credentials from file\n",
    "def read_credentials(filename):\n",
    "    with open(filename, 'r') as txtfile:\n",
    "        username, password = txtfile.read().split()\n",
    "        return username, password\n",
    "\n",
    "username, password = read_credentials('credentials_api_hub.txt')\n",
    "print(username)\n",
    "print(password)"
   ]
  },
  {
   "cell_type": "code",
   "execution_count": null,
   "id": "prostate-catalog",
   "metadata": {},
   "outputs": [],
   "source": [
    "# parameters\n",
    "roi = 'POLYGON((15.425 50.74, 15.515 50.74, 15.515 50.635, 15.425 50.635, 15.425 50.74))'"
   ]
  },
  {
   "cell_type": "code",
   "execution_count": null,
   "id": "basic-strain",
   "metadata": {},
   "outputs": [],
   "source": [
    "# initialise api\n",
    "api = sentinelsat.SentinelAPI(\n",
    "    username,\n",
    "    password,\n",
    "    api_url='https://apihub.copernicus.eu/apihub/',\n",
    "    show_progressbars=True,\n",
    "    timeout=60)"
   ]
  },
  {
   "cell_type": "code",
   "execution_count": null,
   "id": "clinical-cyprus",
   "metadata": {},
   "outputs": [],
   "source": [
    "# query the api\n",
    "query_result = api.query(\n",
    "    date=('20220401', '20220930'),\n",
    "    platformname='Sentinel-1',\n",
    "    raw=None,\n",
    "    area=roi,\n",
    "    area_relation='Contains',\n",
    "    order_by=None,\n",
    "    limit=200,\n",
    "    offset=0,\n",
    "    relativeorbitnumber=(95),\n",
    "    producttype='SLC',\n",
    "    sensoroperationalmode='IW')\n",
    "print(f'This query returned {len(query_result)} responses.')"
   ]
  },
  {
   "cell_type": "code",
   "execution_count": null,
   "id": "24b732cd-3e41-48cf-ac48-0e9a1c953031",
   "metadata": {},
   "outputs": [],
   "source": [
    "query_result = api.query(\n",
    "    identifier='S1B_IW_SLC__1SDV_20210911T051717_20210911T051744_028646_036B2F_481C',\n",
    "    producttype='SLC',\n",
    "    sensoroperationalmode='IW')\n",
    "\n",
    "download_dir = f'D:/Studenti/JD/DP/Sentinel_1/2021/95'\n",
    "api.download_all(query_result, directory_path=download_dir, n_concurrent_dl=4)"
   ]
  },
  {
   "cell_type": "code",
   "execution_count": null,
   "id": "passing-airplane",
   "metadata": {},
   "outputs": [],
   "source": [
    "# draw the imagery boundaries\n",
    "df = geopandas.read_file(geopandas.datasets.get_path('naturalearth_lowres'))\n",
    "background = df[df['name'] == 'Czechia'].plot(color='white', edgecolor='black')\n",
    "geopandas.GeoSeries.from_wkt([roi]).plot(ax=background)\n",
    "\n",
    "gdf = api.to_geodataframe(query_result)\n",
    "gdf.boundary.plot(ax=background, marker='o', color='red', markersize=5);"
   ]
  },
  {
   "cell_type": "code",
   "execution_count": null,
   "id": "936dd128-4155-45a2-8e90-b9d6fd35fdc6",
   "metadata": {},
   "outputs": [],
   "source": [
    "seasons = (('20210401', '20210930'), ('20220401', '20220930'))\n",
    "orbits = (22, 95, 73, 146)\n",
    "for season in seasons:\n",
    "    for orbit in orbits:\n",
    "        download_dir = f'D:/Studenti/JD/DP/Sentinel_1/{season[0][:4]}/{orbit}'\n",
    "        download_list = [join(download_dir, filename) for filename in listdir(download_dir)]\n",
    "        broken_files = api.check_files(paths=download_list, delete=False).keys()\n",
    "        print(f'Files from {season[0][:4]}, RO {orbit} have {len(broken_files)} broken files.')"
   ]
  },
  {
   "cell_type": "code",
   "execution_count": null,
   "id": "native-bosnia",
   "metadata": {},
   "outputs": [],
   "source": [
    "seasons = (('20210401', '20210930'), ('20220401', '20220930'))\n",
    "orbits = (22, 95, 73, 146)\n",
    "for season in seasons:\n",
    "    for orbit in orbits:\n",
    "        query_result = api.query(\n",
    "            date=season,\n",
    "            platformname='Sentinel-1',\n",
    "            raw=None,\n",
    "            area=roi,\n",
    "            area_relation='Contains',\n",
    "            order_by=None,\n",
    "            limit=200,\n",
    "            offset=0,\n",
    "            relativeorbitnumber=orbit,\n",
    "            producttype='SLC',\n",
    "            sensoroperationalmode='IW')\n",
    "        print(f'Query for RO {orbit} in {season[0][:4]} returned {len(query_result)} responses.')\n",
    "        download_dir = f'D:/Studenti/JD/DP/Sentinel_1/{season[0][:4]}/{orbit}'\n",
    "        api.download_all(query_result, directory_path=download_dir, n_concurrent_dl=4)"
   ]
  },
  {
   "cell_type": "code",
   "execution_count": null,
   "id": "chicken-genome",
   "metadata": {},
   "outputs": [],
   "source": [
    "# print capture dates\n",
    "capture_dates = [i[\"beginposition\"] for i in query_result.values()]\n",
    "print(capture_dates)"
   ]
  },
  {
   "cell_type": "code",
   "execution_count": null,
   "id": "adolescent-reporter",
   "metadata": {},
   "outputs": [],
   "source": [
    "plt.plot(capture_dates, len(capture_dates)*[0], '+')"
   ]
  },
  {
   "cell_type": "code",
   "execution_count": null,
   "id": "reduced-gazette",
   "metadata": {
    "scrolled": true
   },
   "outputs": [],
   "source": [
    "# download everything from the query to folder\n",
    "api.download_all(query_result, directory_path='E:/datasets/NATUR_CUNI/_dp_download/sentinel1/73', n_concurrent_dl=4)"
   ]
  },
  {
   "cell_type": "code",
   "execution_count": null,
   "id": "emerging-reliance",
   "metadata": {},
   "outputs": [],
   "source": [
    "help(api.query)"
   ]
  },
  {
   "cell_type": "code",
   "execution_count": null,
   "id": "dramatic-cheese",
   "metadata": {},
   "outputs": [],
   "source": [
    "help(api.check)"
   ]
  },
  {
   "cell_type": "code",
   "execution_count": null,
   "id": "approved-module",
   "metadata": {},
   "outputs": [],
   "source": [
    "# pseudocode overall structure\n",
    "download_all\n",
    "check_correct_download\n",
    "add_to_db\n",
    "remove"
   ]
  }
 ],
 "metadata": {
  "kernelspec": {
   "display_name": "Python 3 (ipykernel)",
   "language": "python",
   "name": "python3"
  },
  "language_info": {
   "codemirror_mode": {
    "name": "ipython",
    "version": 3
   },
   "file_extension": ".py",
   "mimetype": "text/x-python",
   "name": "python",
   "nbconvert_exporter": "python",
   "pygments_lexer": "ipython3",
   "version": "3.10.6"
  }
 },
 "nbformat": 4,
 "nbformat_minor": 5
}
