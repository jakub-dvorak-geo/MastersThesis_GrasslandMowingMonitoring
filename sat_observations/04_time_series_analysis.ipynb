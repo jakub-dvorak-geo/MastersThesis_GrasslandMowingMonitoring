{
 "cells": [
  {
   "cell_type": "code",
   "execution_count": 1,
   "id": "8ef70d12-9849-45aa-aa88-6536f16ad68d",
   "metadata": {},
   "outputs": [],
   "source": [
    "import geopandas as gpd\n",
    "import pandas as pd\n",
    "import matplotlib.pyplot as plt\n",
    "from datetime import datetime\n",
    "\n",
    "from os.path import join"
   ]
  },
  {
   "cell_type": "code",
   "execution_count": 2,
   "id": "09ab94c6-757a-494c-945c-e4e2028d325c",
   "metadata": {},
   "outputs": [],
   "source": [
    "ROOT_DIR = 'f:/datasets/NATUR_CUNI'\n",
    "year=2021\n",
    "inpath_vector = join(ROOT_DIR, f'reference/{year}/vyjezdy_{year}_zonal_stats.gpkg')"
   ]
  },
  {
   "cell_type": "code",
   "execution_count": 3,
   "id": "1c7f0fc4-da2f-450d-b910-b456171f7da3",
   "metadata": {},
   "outputs": [],
   "source": [
    "class Time_series:\n",
    "    def __init__(self, inpath_vector):\n",
    "        self.sar_gdf = gpd.read_file(inpath_vector)\n",
    "        self.sar_keys = [key for key in self.sar_gdf.keys() if 'VV_' in key or 'VH_' in key]\n",
    "        self.sar_dates = list(set([datetime.strptime(key[3:12], '%Y_%m%d') for key in self.sar_keys]))\n",
    "        self.sar_dates.sort()\n",
    "        self.metrics = self._extract_metrics()\n",
    "        \n",
    "        self.obs_gdf = self.sar_gdf.filter(regex='\\A\\d.*\\d\\Z', axis='columns')\n",
    "        self.obs_dates = [datetime.strptime(f'2021_{date}', '%Y_%d_%m') for date in self.obs_gdf.keys()]\n",
    "        \n",
    "        \n",
    "    def _extract_metrics(self):\n",
    "        pols = set([i[:2] for i in self.sar_keys])\n",
    "        stats = set([i[18:] for i in self.sar_keys])\n",
    "        \n",
    "        metrics = {}\n",
    "        for stat in stats:\n",
    "            for pol in pols:\n",
    "                cols = [coh for coh in self.sar_keys if stat in coh and pol in coh]\n",
    "                cols.sort()\n",
    "                metrics[f'{stat}_{pol}'] = cols\n",
    "        return metrics\n",
    "        \n",
    "    def list_metrics(self):\n",
    "        print(self.metrics.keys())\n",
    "    \n",
    "    def plot_series_single(self, plot_idx=0, metric='mean_VH'):\n",
    "        fig, ax1 = plt.subplots()\n",
    "\n",
    "        ax1.set_xlabel('Time')\n",
    "        ax1.set_ylabel('S1 Coherence', color = 'red')\n",
    "        ax1.set_ylim(0, 1)\n",
    "        \n",
    "        y = self.sar_gdf.iloc[plot_idx].loc[self.metrics[metric]]\n",
    "        \n",
    "        plot_1 = ax1.plot(self.sar_dates, y, color='red')\n",
    "        std = f'st_{metric[-2:]}'\n",
    "        if std in self.metrics:\n",
    "            y_bottom = y - self.sar_gdf.iloc[plot_idx].loc[self.metrics[std]].to_numpy()\n",
    "            y_top =    y + self.sar_gdf.iloc[plot_idx].loc[self.metrics[std]].to_numpy()\n",
    "            dict_df = {\n",
    "                'x': self.sar_dates,\n",
    "                'y_bottom': y_bottom,\n",
    "                'y_top': y_top,\n",
    "            }\n",
    "            df = pd.DataFrame(dict_df)\n",
    "            pd.to_datetime(df['x'],format='%Y%m%d')\n",
    "           \n",
    "            print(self.sar_gdf.iloc[plot_idx].loc[self.metrics[std]])\n",
    "            print(y)\n",
    "            print(y_bottom)\n",
    "            print(y_top)\n",
    "            print(df)\n",
    "            plot_1 = ax1.fill_between(data=df, x='x', y1='y_bottom', y2='y_top')\n",
    "        \n",
    "        plot_1 = ax1.plot(self.sar_dates, y, color='red')\n",
    "        ax1.tick_params(axis ='y', labelcolor = 'red')\n",
    "\n",
    "        # Adding Twin Axes\n",
    "        ax2 = ax1.twinx()\n",
    "        ax2.set_ylabel('In situ grass height [cm]', color = 'green')\n",
    "        plot_2 = ax2.bar(self.obs_dates, self.obs_gdf.iloc[plot_idx], color='green')\n",
    "        ax2.tick_params(axis ='y', labelcolor = 'green')\n",
    "\n",
    "        # Show plot\n",
    "        plt.show()\n",
    "\n",
    "    def plot_series_all(self, metric='mean_VH'):\n",
    "        fig, (axs) = plt.subplots(ncols=6, nrows=10, squeeze=False, sharex='all', sharey='all')\n",
    "        axs_flat = axs.flatten()\n",
    "\n",
    "        for idx, row in enumerate(self.sar_gdf.iterrows()):\n",
    "            x = [datetime.strptime(string[3:12], '%Y_%m%d') for string in row[1][self.metrics[metric]].keys()]\n",
    "            y = row[1][self.metrics[metric]]\n",
    "            axs_flat[idx].plot(x, y)"
   ]
  },
  {
   "cell_type": "code",
   "execution_count": 4,
   "id": "4f81b93b-03aa-4234-bdd8-dff1798ad133",
   "metadata": {},
   "outputs": [],
   "source": [
    "hello_world = Time_series(inpath_vector)"
   ]
  },
  {
   "cell_type": "code",
   "execution_count": 5,
   "id": "a403fb00-1495-43ab-8d46-693cf5bfc927",
   "metadata": {},
   "outputs": [
    {
     "name": "stdout",
     "output_type": "stream",
     "text": [
      "dict_keys(['std_VH', 'std_VV', 'count_VH', 'count_VV', 'median_VH', 'median_VV', 'mean_VH', 'mean_VV'])\n"
     ]
    }
   ],
   "source": [
    "hello_world.list_metrics()"
   ]
  },
  {
   "cell_type": "code",
   "execution_count": null,
   "id": "6ae0b93d-c911-4803-b71b-7df4468a60c5",
   "metadata": {},
   "outputs": [],
   "source": [
    "hello_world.plot_series_single(15, 'median_VH')"
   ]
  },
  {
   "cell_type": "code",
   "execution_count": null,
   "id": "ec1ca324-0573-42c2-a983-bedceb8ff1dc",
   "metadata": {},
   "outputs": [],
   "source": [
    "hello_world.plot_series_all()"
   ]
  },
  {
   "cell_type": "code",
   "execution_count": null,
   "id": "afcd413c-3384-43e5-a729-ee590a65d5aa",
   "metadata": {},
   "outputs": [],
   "source": [
    "'mean_VH'[-2:]"
   ]
  },
  {
   "cell_type": "code",
   "execution_count": null,
   "id": "4cdd7dca-5a4c-4545-a28b-dc459b91838d",
   "metadata": {},
   "outputs": [],
   "source": []
  }
 ],
 "metadata": {
  "kernelspec": {
   "display_name": "Python 3 (ipykernel)",
   "language": "python",
   "name": "python3"
  },
  "language_info": {
   "codemirror_mode": {
    "name": "ipython",
    "version": 3
   },
   "file_extension": ".py",
   "mimetype": "text/x-python",
   "name": "python",
   "nbconvert_exporter": "python",
   "pygments_lexer": "ipython3",
   "version": "3.10.6"
  }
 },
 "nbformat": 4,
 "nbformat_minor": 5
}
