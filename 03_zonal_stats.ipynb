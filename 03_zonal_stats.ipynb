{
 "cells": [
  {
   "cell_type": "code",
   "execution_count": null,
   "id": "44d7e4a2-131f-429d-a1ae-5281ebda3277",
   "metadata": {},
   "outputs": [],
   "source": [
    "import geopandas as gpd\n",
    "import rasterio as rio\n",
    "\n",
    "import rasterstats\n",
    "\n",
    "import matplotlib.pyplot as plt\n",
    "from rasterio.plot import show\n",
    "\n",
    "from os.path import join, basename\n",
    "from glob import glob"
   ]
  },
  {
   "cell_type": "code",
   "execution_count": null,
   "id": "49602338-785d-4fef-a61e-ead9a9c81034",
   "metadata": {},
   "outputs": [],
   "source": [
    "ROOT_DIR = '/media/sf_JD/DP'\n",
    "stats = ['mean', 'median', 'std']"
   ]
  },
  {
   "cell_type": "markdown",
   "id": "7a757505-a96c-4024-b8e4-48ab4391595c",
   "metadata": {},
   "source": [
    "## Testing raster statistics"
   ]
  },
  {
   "cell_type": "code",
   "execution_count": null,
   "id": "f24fa634-3615-4f80-93a3-e29d3d287040",
   "metadata": {},
   "outputs": [],
   "source": [
    "def compute_zonal_stats_one_orbit(raster_dir, stats_gdf, stats=['mean']):\n",
    "    # Get relative orbit and raster filenames\n",
    "    ro = int(basename(raster_dir))\n",
    "    rasters_list = glob('coh_*.tif', root_dir=raster_dir)\n",
    "    \n",
    "    print(f'Processing {len(rasters_list)} rasters:')\n",
    "    # loop through all coherence rasters\n",
    "    for raster in rasters_list:\n",
    "        print(raster)\n",
    "        \n",
    "        # Read raster array and transform\n",
    "        raster_path = join(raster_dir, raster)\n",
    "        with rio.open(raster_path, mode='r', count=2) as src:\n",
    "            arr = src.read()\n",
    "            affine = src.transform\n",
    "        \n",
    "        # compute zonal statistics for individual polarizations\n",
    "        for idx_band, pol in enumerate(('VH', 'VV')):\n",
    "            prefix = f'{ro:03}_{pol}_{raster[4:8]}_{raster[8:12]}-{raster[17:21]}_'\n",
    "\n",
    "            stats_list = rasterstats.zonal_stats(stats_gdf, arr[idx_band,:,:],\n",
    "                                                 affine=affine, geojson_out=True,\n",
    "                                                 prefix=prefix, stats=stats, nodata=-1)\n",
    "            stats_gdf = gpd.GeoDataFrame.from_features(stats_list, crs=stats_gdf.crs)\n",
    "\n",
    "    print('Zonal stats successfuly computed.')\n",
    "    return stats_gdf"
   ]
  },
  {
   "cell_type": "code",
   "execution_count": null,
   "id": "52cadb4a-d691-4568-9647-2c2ee8df1a1b",
   "metadata": {},
   "outputs": [],
   "source": [
    "def compute_zonal_stats_all_orbits(root_dir, year, stats):\n",
    "    \n",
    "    in_vector = join(root_dir, f'reference/{year}/vyjezdy_{year}_4326_singlepart.gpkg')\n",
    "    out_vector = join(root_dir, f'reference/{year}/vyjezdy_{year}_zonal_stats.gpkg')\n",
    "    raster_dir = join(root_dir, f's1_coherence/{year}')\n",
    "    \n",
    "    gdf_vector = gpd.read_file(in_vector)\n",
    "    \n",
    "    for ro_dir in glob(f'{raster_dir}/*'):\n",
    "        print(ro_dir)\n",
    "        gdf_vector = compute_zonal_stats_one_orbit(ro_dir, gdf_vector, stats)\n",
    "    \n",
    "    gdf_vector.to_file(out_vector)\n",
    "    return gdf_vector"
   ]
  },
  {
   "cell_type": "code",
   "execution_count": null,
   "id": "dd0cd62b-f628-4676-bffd-d164557ff700",
   "metadata": {},
   "outputs": [],
   "source": [
    "def zonal_stats_all(root_dir, years=(2021,), stats=['mean']):\n",
    "    for year in years:\n",
    "        compute_zonal_stats_all_orbits(root_dir, year, stats)"
   ]
  },
  {
   "cell_type": "code",
   "execution_count": null,
   "id": "835ddcac-9d6c-4fab-a618-a0b2af383193",
   "metadata": {},
   "outputs": [],
   "source": [
    "zonal_stats_all(ROOT_DIR, years=(2021,), stats=stats)"
   ]
  },
  {
   "cell_type": "code",
   "execution_count": null,
   "id": "33b76465-1aa9-45a3-a613-167730f36980",
   "metadata": {},
   "outputs": [],
   "source": [
    "ro = 22\n",
    "f'{ro:03}'"
   ]
  },
  {
   "cell_type": "code",
   "execution_count": null,
   "id": "414a0901-6850-4edd-8c3d-7604f43db631",
   "metadata": {},
   "outputs": [],
   "source": [
    "ro = 22\n",
    "pol = 'VH'\n",
    "raster = 'coh_20210517_20210523.tif'\n",
    "\n",
    "f'{ro:03}_{pol}_{raster[4:8]}_{raster[8:12]}-{raster[17:21]}_'"
   ]
  },
  {
   "cell_type": "code",
   "execution_count": null,
   "id": "30d9c3f1-b9f4-4ffc-960c-42ed40394ca8",
   "metadata": {},
   "outputs": [],
   "source": []
  }
 ],
 "metadata": {
  "kernelspec": {
   "display_name": "Python 3 (ipykernel)",
   "language": "python",
   "name": "python3"
  },
  "language_info": {
   "codemirror_mode": {
    "name": "ipython",
    "version": 3
   },
   "file_extension": ".py",
   "mimetype": "text/x-python",
   "name": "python",
   "nbconvert_exporter": "python",
   "pygments_lexer": "ipython3",
   "version": "3.10.6"
  }
 },
 "nbformat": 4,
 "nbformat_minor": 5
}
