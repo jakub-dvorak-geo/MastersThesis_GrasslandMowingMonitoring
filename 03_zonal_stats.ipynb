{
 "cells": [
  {
   "cell_type": "code",
   "execution_count": null,
   "id": "44d7e4a2-131f-429d-a1ae-5281ebda3277",
   "metadata": {},
   "outputs": [],
   "source": [
    "import geopandas as gpd\n",
    "import rasterio as rio\n",
    "\n",
    "import rasterstats\n",
    "\n",
    "import matplotlib.pyplot as plt\n",
    "from rasterio.plot import show\n",
    "\n",
    "from os.path import join, basename\n",
    "from glob import glob"
   ]
  },
  {
   "cell_type": "code",
   "execution_count": null,
   "id": "49602338-785d-4fef-a61e-ead9a9c81034",
   "metadata": {},
   "outputs": [],
   "source": [
    "ROOT_DIR = '/media/sf_JD/DP'\n",
    "stats = ['mean', 'median', 'std']"
   ]
  },
  {
   "cell_type": "markdown",
   "id": "7a757505-a96c-4024-b8e4-48ab4391595c",
   "metadata": {},
   "source": [
    "## Testing raster statistics"
   ]
  },
  {
   "cell_type": "code",
   "execution_count": null,
   "id": "f24fa634-3615-4f80-93a3-e29d3d287040",
   "metadata": {},
   "outputs": [],
   "source": [
    "def compute_zonal_stats_one_orbit(raster_dir, vector_path, stats=['mean']):\n",
    "    # Get relative orbit and raster filenames\n",
    "    ro = basename(raster_dir)\n",
    "    rasters_list = glob('coh_*.tif', root_dir=raster_dir)\n",
    "    # Read vector file\n",
    "    stats_gdf = gpd.read_file(vector_path)\n",
    "    \n",
    "    print(f'Processing {len(rasters_list)} rasters:')\n",
    "    # loop through all coherence rasters\n",
    "    for raster in rasters_list:\n",
    "        print(raster)\n",
    "        \n",
    "        # Read raster array and transform\n",
    "        raster_path = join(raster_dir, raster)\n",
    "        with rio.open(raster_path) as src:\n",
    "            arr = src.read()\n",
    "            affine = src.transform\n",
    "        \n",
    "        # compute zonal statistics for individual polarizations\n",
    "        for idx_band, pol in enumerate(('VH', 'VV')):\n",
    "            prefix = f'{ro:03}_{pol}_{raster[4:8]}_{raster[8:12]}-{raster[17:21]}_'\n",
    "\n",
    "            stats_list = rasterstats.zonal_stats(stats_gdf, arr[idx_band,:,:], affine=affine, geojson_out=True, prefix=prefix, stats=stats, nodata=-1)\n",
    "            stats_gdf = gpd.GeoDataFrame.from_features(stats_list, crs=stats_gdf.crs)\n",
    "\n",
    "    print('Zonal stats successfuly computed.')\n",
    "    return stats_gdf"
   ]
  },
  {
   "cell_type": "code",
   "execution_count": null,
   "id": "52cadb4a-d691-4568-9647-2c2ee8df1a1b",
   "metadata": {},
   "outputs": [],
   "source": [
    "def compute_zonal_stats_all_orbits(root_dir, year, stats):\n",
    "    \n",
    "    gdf_vector = join(root_dir, f'reference/{year}/vyjezdy_{year}_4326_singlepart.gpkg')\n",
    "    out_vector = join(root_dir, f'reference/{year}/vyjezdy_{year}_zonal_stats.gpkg')\n",
    "    raster_dir = join(root_dir, f's1_coherence/{year}')\n",
    "\n",
    "    for ro_dir in glob(f'{raster_dir}/*'):\n",
    "        print(ro_dir)\n",
    "        gdf_vector = compute_zonal_stats_one_orbit(ro_dir, gdf_vector, stats)\n",
    "    \n",
    "    gdf_vector.to_file(out_vector)\n",
    "    return gdf_vector"
   ]
  },
  {
   "cell_type": "code",
   "execution_count": null,
   "id": "dd0cd62b-f628-4676-bffd-d164557ff700",
   "metadata": {},
   "outputs": [],
   "source": [
    "def zonal_stats_all(root_dir, years=(2021,), stats=['mean']):\n",
    "    for year in years:\n",
    "        compute_zonal_stats_all_orbits(root_dir, year, stats)"
   ]
  },
  {
   "cell_type": "code",
   "execution_count": null,
   "id": "835ddcac-9d6c-4fab-a618-a0b2af383193",
   "metadata": {},
   "outputs": [],
   "source": [
    "zonal_stats_all(ROOT_DIR, years=(2021,), stats=stats)"
   ]
  },
  {
   "cell_type": "markdown",
   "id": "816181ab-8bbe-44ff-ba37-b6f8a21b8cec",
   "metadata": {},
   "source": [
    "## possible to delete:"
   ]
  },
  {
   "cell_type": "code",
   "execution_count": null,
   "id": "721f36c8-cef5-4b18-b722-947af910a9e9",
   "metadata": {},
   "outputs": [],
   "source": [
    "gdf_out = compute_zonal_stats_one_orbit(raster_dir, inpath_vector, stats)\n",
    "gdf_out.to_file(outpath_vector)"
   ]
  },
  {
   "cell_type": "code",
   "execution_count": null,
   "id": "1ff70cca-25e6-4e5f-932c-1fb9127e7db9",
   "metadata": {},
   "outputs": [],
   "source": [
    "for raster in rasters_list:\n",
    "    raster_path = join(raster_dir, raster)\n",
    "    prefix = f'{raster[4:8]}_{raster[8:12]}-{raster[17:21]}_'\n",
    "    \n",
    "    with rio.open(raster_path) as src:\n",
    "        for idx, polarization in enumerate(('VH', 'VV')):\n",
    "            prefix_pol = f'{polarization}_{prefix}'\n",
    "            print(prefix_pol)\n",
    "    \n",
    "            stats_list = rasterstats.zonal_stats(stats_gdf, src.read(idx+1), affine=src.transform, geojson_out=True, prefix=prefix_pol, stats=stats, nodata=-1)\n",
    "            stats_gdf = gpd.GeoDataFrame.from_features(stats_list, crs='EPSG:4326')"
   ]
  },
  {
   "cell_type": "code",
   "execution_count": null,
   "id": "5ce2c314-73fa-49c1-8879-b235eb0a2097",
   "metadata": {},
   "outputs": [],
   "source": [
    "stats_gdf.to_file(outpath_vector)"
   ]
  },
  {
   "cell_type": "code",
   "execution_count": null,
   "id": "c434f528-b519-4b50-9f6d-819ed1017f9e",
   "metadata": {},
   "outputs": [],
   "source": [
    "inpath_raster = 'c:/users/dd/documents/natur_cuni/_dp/DTM/DMR_4G_4326.tif'\n",
    "inpath_vector = 'c:/users/dd/documents/natur_cuni/_dp/reference_data/Vyjezdy_2021/vyjezdy_2021_4326_singlepart.gpkg'\n",
    "outpath_vector = 'c:/users/dd/documents/natur_cuni/_dp/reference_data/Vyjezdy_2021/vyjezdy_2021_stats.gpkg'"
   ]
  },
  {
   "cell_type": "code",
   "execution_count": null,
   "id": "812fe0eb-3a36-40d7-b3ff-aaea159d742a",
   "metadata": {},
   "outputs": [],
   "source": [
    "stats_list = rasterstats.zonal_stats(inpath_vector, inpath_raster, prefix='dtm_', geojson_out=True)"
   ]
  },
  {
   "cell_type": "code",
   "execution_count": null,
   "id": "1ea4ebfb-0441-4097-a2fa-7383ede89c47",
   "metadata": {},
   "outputs": [],
   "source": [
    "fig, ax = plt.subplots(figsize=(15, 15))\n",
    "\n",
    "with rio.open(inpath_raster) as src:\n",
    "    show(src.read(1), transform=src.transform, cmap='pink', ax=ax)\n",
    "\n",
    "stats_gdf = gpd.GeoDataFrame.from_features(stats_list, crs=\"EPSG:4326\")\n",
    "stats_gdf.plot('dtm_max', ax=ax, figsize=(30, 30))\n",
    "#gpd.read_file(inpath_vector).combine(pd.DataFrame(stats_list))"
   ]
  },
  {
   "cell_type": "code",
   "execution_count": null,
   "id": "08332ebd-bfb3-4c74-a6b9-3fb9c0865195",
   "metadata": {},
   "outputs": [],
   "source": [
    "inpath_vector = 'c:/users/dd/documents/natur_cuni/_dp/reference_data/Vyjezdy_2021/vyjezdy_2021_4326_singlepart.gpkg'\n",
    "gdf = gpd.read_file(inpath_vector)"
   ]
  },
  {
   "cell_type": "code",
   "execution_count": null,
   "id": "8e22e89a-e5a4-4538-82cb-e728764cc25d",
   "metadata": {},
   "outputs": [],
   "source": [
    "gdf.crs"
   ]
  },
  {
   "cell_type": "code",
   "execution_count": null,
   "id": "33b76465-1aa9-45a3-a613-167730f36980",
   "metadata": {},
   "outputs": [],
   "source": []
  }
 ],
 "metadata": {
  "kernelspec": {
   "display_name": "Python 3 (ipykernel)",
   "language": "python",
   "name": "python3"
  },
  "language_info": {
   "codemirror_mode": {
    "name": "ipython",
    "version": 3
   },
   "file_extension": ".py",
   "mimetype": "text/x-python",
   "name": "python",
   "nbconvert_exporter": "python",
   "pygments_lexer": "ipython3",
   "version": "3.10.6"
  }
 },
 "nbformat": 4,
 "nbformat_minor": 5
}
