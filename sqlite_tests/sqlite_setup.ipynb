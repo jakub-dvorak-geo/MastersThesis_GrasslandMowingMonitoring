{
 "cells": [
  {
   "cell_type": "code",
   "execution_count": 1,
   "id": "94c992e9-1d8d-4ef4-8569-78d84c789af9",
   "metadata": {},
   "outputs": [],
   "source": [
    "from osgeo import ogr\n",
    "import sqlite3"
   ]
  },
  {
   "cell_type": "code",
   "execution_count": 4,
   "id": "c62b7136-4c0f-4ddf-82db-996dd8e0322c",
   "metadata": {},
   "outputs": [],
   "source": [
    "test_db_path = r'C:\\Users\\dd\\Documents\\NATUR_CUNI\\_dp\\code_git_repo\\test_db.sqlite'"
   ]
  },
  {
   "cell_type": "code",
   "execution_count": 5,
   "id": "8fac660f-8ed1-4d63-8959-b2e352ff3840",
   "metadata": {},
   "outputs": [],
   "source": [
    "def create_db_spatialite_ogr(db_path):\n",
    "    driver = ogr.GetDriverByName('SQLite')\n",
    "    # create data source\n",
    "    data_source = driver.CreateDataSource(db_path, options=['SPATIALITE=YES'])\n",
    "    data_source = None\n",
    "\n",
    "create_db_spatialite_ogr(test_db_path)"
   ]
  },
  {
   "cell_type": "code",
   "execution_count": 6,
   "id": "b88de35e-4c3f-4335-9dec-5a3980db6553",
   "metadata": {},
   "outputs": [],
   "source": [
    "conn = sqlite3.connect(test_db_path)"
   ]
  },
  {
   "cell_type": "code",
   "execution_count": null,
   "id": "0410cd94-9b48-4355-9dad-b794882ff38e",
   "metadata": {},
   "outputs": [],
   "source": [
    "conn = sqlite3.connect(':memory:', detect_types=sqlite3.PARSE_DECLTYPES |\n",
    "                                                sqlite3.PARSE_COLNAMES)\n",
    "\n",
    "conn.enable_load_extension(True)\n",
    "\n",
    "#mod_spatialite (recommended)\n",
    "conn.execute('SELECT load_extension(\"mod_spatialite\")')   \n",
    "conn.execute('SELECT InitSpatialMetaData(1);')  \n",
    "\n",
    "# libspatialite\n",
    "conn.execute('SELECT load_extension(\"spatialite\")')\n",
    "#conn.execute('SELECT InitSpatialMetaData();')\n"
   ]
  },
  {
   "cell_type": "code",
   "execution_count": 7,
   "id": "breeding-incentive",
   "metadata": {},
   "outputs": [],
   "source": [
    "\n",
    "c = conn.cursor()"
   ]
  },
  {
   "cell_type": "code",
   "execution_count": 8,
   "id": "1694f342-c6ed-4374-b695-f411060261cb",
   "metadata": {},
   "outputs": [
    {
     "ename": "OperationalError",
     "evalue": "no such function: AddGeometryColumn",
     "output_type": "error",
     "traceback": [
      "\u001b[1;31m---------------------------------------------------------------------------\u001b[0m",
      "\u001b[1;31mOperationalError\u001b[0m                          Traceback (most recent call last)",
      "Input \u001b[1;32mIn [8]\u001b[0m, in \u001b[0;36m<cell line: 6>\u001b[1;34m()\u001b[0m\n\u001b[0;32m      1\u001b[0m c\u001b[38;5;241m.\u001b[39mexecute(\n\u001b[0;32m      2\u001b[0m     \u001b[38;5;124;03m\"\"\"\u001b[39;00m\n\u001b[0;32m      3\u001b[0m \u001b[38;5;124;03m    CREATE TABLE geom_test (\u001b[39;00m\n\u001b[0;32m      4\u001b[0m \u001b[38;5;124;03m        id INT PRIMARY KEY,\u001b[39;00m\n\u001b[0;32m      5\u001b[0m \u001b[38;5;124;03m        testing TEXT)\"\"\"\u001b[39;00m)\n\u001b[1;32m----> 6\u001b[0m \u001b[43mc\u001b[49m\u001b[38;5;241;43m.\u001b[39;49m\u001b[43mexecute\u001b[49m\u001b[43m(\u001b[49m\n\u001b[0;32m      7\u001b[0m \u001b[43m    \u001b[49m\u001b[38;5;124;43;03m\"\"\"\u001b[39;49;00m\n\u001b[0;32m      8\u001b[0m \u001b[38;5;124;43;03m    SELECT AddGeometryColumn('geom_test', 'geom', 4326, 'POLYGON', 'XY');\u001b[39;49;00m\n\u001b[0;32m      9\u001b[0m \u001b[38;5;124;43;03m    \"\"\"\u001b[39;49;00m\u001b[43m)\u001b[49m\n",
      "\u001b[1;31mOperationalError\u001b[0m: no such function: AddGeometryColumn"
     ]
    }
   ],
   "source": [
    "c.execute(\n",
    "    \"\"\"\n",
    "    CREATE TABLE geom_test (\n",
    "        id INT PRIMARY KEY,\n",
    "        testing TEXT)\"\"\")\n",
    "c.execute(\n",
    "    \"\"\"\n",
    "    SELECT AddGeometryColumn('geom_test', 'geom', 4326, 'POLYGON', 'XY');\n",
    "    \"\"\")"
   ]
  },
  {
   "cell_type": "code",
   "execution_count": null,
   "id": "98d10d3f-9084-4c1e-b4b7-2f3cf3d04141",
   "metadata": {},
   "outputs": [],
   "source": [
    "c.execute('''SELECT name FROM sqlite_master WHERE type='table';''')\n",
    "c.fetchall()"
   ]
  },
  {
   "cell_type": "code",
   "execution_count": null,
   "id": "a6955db0-3efa-44bb-b0fe-e0ff3938b083",
   "metadata": {},
   "outputs": [],
   "source": [
    "c.execute('''SELECT * FROM geom_test''')\n",
    "c.fetchall()"
   ]
  },
  {
   "cell_type": "code",
   "execution_count": null,
   "id": "9aaa66bf-e0e9-4a5b-985a-6ad273064b2c",
   "metadata": {},
   "outputs": [],
   "source": [
    "c.execute('''SELECT * FROM spatial_ref_sys''')\n",
    "c.fetchall()"
   ]
  },
  {
   "cell_type": "code",
   "execution_count": null,
   "id": "consolidated-somewhere",
   "metadata": {
    "scrolled": true,
    "tags": []
   },
   "outputs": [],
   "source": [
    "c.execute(\"\"\"CREATE TABLE observations (\n",
    "            id INTEGER PRIMARY KEY,\n",
    "            datetime TEXT,\n",
    "            satellite TEXT,\n",
    "            rel_orb INTEGER,\n",
    "            downloaded BOOL,\n",
    "            downloaded_POI BOOL\n",
    "            )\"\"\")"
   ]
  },
  {
   "cell_type": "code",
   "execution_count": null,
   "id": "expensive-folder",
   "metadata": {},
   "outputs": [],
   "source": [
    "c.execute(\"\"\"CREATE TABLE relative_orbits (\n",
    "            rel_orb INTEGER PRIMARY KEY,\n",
    "            direction TEXT\n",
    "            )\"\"\")"
   ]
  },
  {
   "cell_type": "code",
   "execution_count": null,
   "id": "light-pickup",
   "metadata": {},
   "outputs": [],
   "source": [
    "c.execute(\"\"\"INSERT INTO observations(id, datetime, satellite, rel_orb, downloaded)\n",
    "             VALUES\n",
    "                 (1, '20210506', 'S1A', 73, True),\n",
    "                 (2, '20210512', 'S1B', 73, True),\n",
    "                 (3, '20210518', 'S1A', 73, False)\"\"\")"
   ]
  },
  {
   "cell_type": "code",
   "execution_count": null,
   "id": "dedicated-first",
   "metadata": {},
   "outputs": [],
   "source": [
    "c.execute(\"\"\"INSERT INTO relative_orbits(rel_orb, direction)\n",
    "             VALUES\n",
    "                 (22, 'DESCENDING'),\n",
    "                 (73, 'ASCENDING'),\n",
    "                 (146, 'ASCENDING')\"\"\")"
   ]
  },
  {
   "cell_type": "code",
   "execution_count": null,
   "id": "infrared-afghanistan",
   "metadata": {
    "scrolled": true
   },
   "outputs": [],
   "source": [
    "c.execute('''SELECT * FROM observations''')\n",
    "c.fetchall()"
   ]
  },
  {
   "cell_type": "code",
   "execution_count": null,
   "id": "compound-dylan",
   "metadata": {},
   "outputs": [],
   "source": []
  },
  {
   "cell_type": "code",
   "execution_count": null,
   "id": "happy-software",
   "metadata": {},
   "outputs": [],
   "source": [
    "import sentinelsat"
   ]
  },
  {
   "cell_type": "code",
   "execution_count": null,
   "id": "legitimate-willow",
   "metadata": {},
   "outputs": [],
   "source": [
    "help(sentinelsat.sentinel)"
   ]
  },
  {
   "cell_type": "code",
   "execution_count": null,
   "id": "recent-victorian",
   "metadata": {},
   "outputs": [],
   "source": [
    "api = SentinelAPI(user, password, api_url='https://scihub.copernicus.eu/apihub/', show_progressbars=True, timeout=None)\n",
    "api.query()\n",
    "api"
   ]
  }
 ],
 "metadata": {
  "kernelspec": {
   "display_name": "Python 3 (ipykernel)",
   "language": "python",
   "name": "python3"
  },
  "language_info": {
   "codemirror_mode": {
    "name": "ipython",
    "version": 3
   },
   "file_extension": ".py",
   "mimetype": "text/x-python",
   "name": "python",
   "nbconvert_exporter": "python",
   "pygments_lexer": "ipython3",
   "version": "3.10.6"
  }
 },
 "nbformat": 4,
 "nbformat_minor": 5
}
