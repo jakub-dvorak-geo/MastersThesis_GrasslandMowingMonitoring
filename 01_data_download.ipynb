{
 "cells": [
  {
   "cell_type": "markdown",
   "id": "accepted-monaco",
   "metadata": {},
   "source": [
    "doplnit graf zobrazujici data porizeni snimku"
   ]
  },
  {
   "cell_type": "code",
   "execution_count": null,
   "id": "affecting-alloy",
   "metadata": {},
   "outputs": [],
   "source": [
    "# import libraries\n",
    "from sentinelsat import SentinelAPI\n",
    "import pandas as pd\n",
    "import geopandas as gpd\n",
    "import matplotlib.pyplot as plt\n",
    "\n",
    "from os import listdir\n",
    "from os.path import join"
   ]
  },
  {
   "cell_type": "code",
   "execution_count": null,
   "id": "a59084b6-bb3b-4d6c-a84b-5bbc005e897c",
   "metadata": {},
   "outputs": [],
   "source": [
    "ROOT_DIR = '/media/sf_JD/DP'"
   ]
  },
  {
   "cell_type": "code",
   "execution_count": null,
   "id": "unable-macintosh",
   "metadata": {},
   "outputs": [],
   "source": [
    "# read credentials from file\n",
    "def read_credentials(filename):\n",
    "    with open(filename, 'r') as txtfile:\n",
    "        username, password = txtfile.read().split()\n",
    "        return username, password\n",
    "\n",
    "username, password = read_credentials('credentials_api_hub.txt')\n",
    "print(username)\n",
    "print(password)\n",
    "\n",
    "api = SentinelAPI(username, password, 'https://apihub.copernicus.eu/apihub')"
   ]
  },
  {
   "cell_type": "code",
   "execution_count": null,
   "id": "d102f433-18a7-4b86-8c8e-08e2b008bbd6",
   "metadata": {},
   "outputs": [],
   "source": [
    "# Change ROI to only include correct files for RO 73"
   ]
  },
  {
   "cell_type": "code",
   "execution_count": null,
   "id": "3f4c736d-e3db-489f-bca3-d9fea6aed3e4",
   "metadata": {},
   "outputs": [],
   "source": [
    "roi_path = join(ROOT_DIR, f'reference/2021/vyjezdy_2021_4326_singlepart.gpkg')\n",
    "roi_gdf = gpd.read_file(roi_path)\n",
    "x = roi_gdf.total_bounds\n",
    "roi = f'POLYGON(({x[0]} {x[3]}, {x[2]} {x[3]}, {x[2]} {x[1]}, {x[0]} {x[1]}, {x[0]} {x[3]}))'"
   ]
  },
  {
   "cell_type": "code",
   "execution_count": null,
   "id": "prostate-catalog",
   "metadata": {},
   "outputs": [],
   "source": [
    "# parameters\n",
    "#roi = 'POLYGON((15.425 50.74, 15.515 50.74, 15.515 50.635, 15.425 50.635, 15.425 50.74))'\n",
    "seasons = (('20210401', '20210930'), ('20220401', '20220930'))\n",
    "orbits = (22, 95, 73, 146)"
   ]
  },
  {
   "cell_type": "code",
   "execution_count": null,
   "id": "de91b466-b7d5-414e-a0eb-7671f6257c16",
   "metadata": {},
   "outputs": [],
   "source": [
    "# download files\n",
    "for season in seasons:\n",
    "    for orbit in orbits:\n",
    "        query_result = api.query(\n",
    "            date=season,\n",
    "            platformname='Sentinel-1',\n",
    "            raw=None,\n",
    "            area=roi,\n",
    "            area_relation='Contains',\n",
    "            order_by=None,\n",
    "            limit=200,\n",
    "            offset=0,\n",
    "            relativeorbitnumber=orbit,\n",
    "            producttype='SLC',\n",
    "            sensoroperationalmode='IW')\n",
    "        print(f'Query for RO {orbit} in {season[0][:4]} returned {len(query_result)} responses.')\n",
    "        download_dir = join(ROOT_DIR, f's1_download/{season[0][:4]}/{orbit}')\n",
    "        api.download_all(query_result, directory_path=download_dir, n_concurrent_dl=4)"
   ]
  },
  {
   "cell_type": "code",
   "execution_count": null,
   "id": "e332164f-2279-436f-b4d9-937b4fd43bd9",
   "metadata": {},
   "outputs": [],
   "source": [
    "# check files\n",
    "for season in seasons:\n",
    "    for orbit in orbits:\n",
    "        download_dir = join(ROOT_DIR, f's1_download/{season[0][:4]}/{orbit}')\n",
    "        download_list = [join(download_dir, filename) for filename in listdir(download_dir)]\n",
    "        broken_files = api.check_files(paths=download_list, delete=False).keys()\n",
    "        print(f'Files from {season[0][:4]}, RO {orbit} have {len(broken_files)} broken files.')"
   ]
  },
  {
   "cell_type": "code",
   "execution_count": null,
   "id": "827e3bd2-1bd6-4aae-aaeb-23aad6db6e29",
   "metadata": {},
   "outputs": [],
   "source": [
    "world = gpd.read_file(\n",
    "    gpd.datasets.get_path('naturalearth_lowres')\n",
    ")\n",
    "czechia = world[world.name=='Czechia']"
   ]
  },
  {
   "cell_type": "code",
   "execution_count": null,
   "id": "c837334b-7a7c-4b3c-a673-d201e21e4fd3",
   "metadata": {},
   "outputs": [],
   "source": [
    "offset = 0"
   ]
  },
  {
   "cell_type": "code",
   "execution_count": null,
   "id": "8616f761-d7c2-4de0-a14a-10e2c4eae04b",
   "metadata": {},
   "outputs": [],
   "source": [
    "offset += 1\n",
    "# visualise image boundaries\n",
    "fig, (axs) = plt.subplots(ncols=2, nrows=2, squeeze=False, sharex='all', sharey='all')\n",
    "axs = axs.flatten()\n",
    "fig.suptitle('Sentinel-1 observation bounds')\n",
    "\n",
    "for idx, orbit in enumerate(orbits):\n",
    "    season = seasons[1]\n",
    "    query_result = api.query(\n",
    "        date=season,\n",
    "        platformname='Sentinel-1',\n",
    "        raw=None,\n",
    "        area=roi,\n",
    "        area_relation='Contains',\n",
    "        order_by=None,\n",
    "        limit=200,\n",
    "        offset=0,\n",
    "        relativeorbitnumber=orbit,\n",
    "        producttype='SLC',\n",
    "        sensoroperationalmode='IW')\n",
    "    \n",
    "    obs_list = [query_result[obs_key]['footprint'] for obs_key in query_result.keys()]\n",
    "    obs_list = obs_list[::-1]\n",
    "    #obs_list = obs_list[offset:2+offset]\n",
    "    obs_gs = gpd.GeoSeries.from_wkt(obs_list)\n",
    "    \n",
    "    #axs[idx].axis('equal')\n",
    "    axs[idx].set_xlim([13,18])\n",
    "    axs[idx].set_ylim([49,52])\n",
    "    axs[idx].set_title(f'RO: {orbit}, #obs: {len(obs_list)}')\n",
    "    czechia.boundary.plot(ax=axs[idx], color='black')\n",
    "    obs_gs.boundary.plot(ax=axs[idx])\n",
    "    roi_gdf.representative_point().plot(ax=axs[idx], color='red')"
   ]
  },
  {
   "cell_type": "code",
   "execution_count": null,
   "id": "7f44ab14-30b4-46da-8907-d4b82dffa38f",
   "metadata": {},
   "outputs": [],
   "source": [
    "# geopandas dataframe for managing downloaded products - way easier than a db"
   ]
  },
  {
   "cell_type": "code",
   "execution_count": null,
   "id": "08fc3605-2316-4071-a32f-b0d56ee56cc0",
   "metadata": {},
   "outputs": [],
   "source": [
    "def add_subswath_from_ro(gdf):\n",
    "    gdf['subswath'] = ''    \n",
    "    gdf.loc[gdf['relativeorbitnumber'] ==  22, 'subswath'] = \"IW2\"\n",
    "    gdf.loc[gdf['relativeorbitnumber'] ==  73, 'subswath'] = \"IW1\"\n",
    "    gdf.loc[gdf['relativeorbitnumber'] ==  95, 'subswath'] = \"IW1\"\n",
    "    gdf.loc[gdf['relativeorbitnumber'] == 146, 'subswath'] = \"IW3\"\n",
    "\n",
    "    return gdf\n",
    "\n",
    "def add_bursts(gdf):\n",
    "    if gdf.iloc[0]['beginposition'].year == 2021:\n",
    "        if gdf.iloc[0]['relativeorbitnumber'] == 22:\n",
    "            gdf['burst_first'] = [6,1,6,1,6,1,6,1,1,1,1,1,1,1,1,1,1,1,1,1,1,1,1,1,1,1,1,1,1,1]\n",
    "            gdf['burst_last'] =  [7,2,7,2,7,2,7,2,2,2,2,2,2,2,2,2,2,2,2,2,2,2,2,2,2,2,2,2,2,2]\n",
    "        if gdf.iloc[0]['relativeorbitnumber'] == 73:\n",
    "            gdf['burst_first'] = [1] * 30\n",
    "            gdf['burst_last'] =  [2] * 30\n",
    "        if gdf.iloc[0]['relativeorbitnumber'] == 95:\n",
    "            gdf['burst_first'] = [1,1,5,1,5,1,5,1,1,1,1,1,1,1,1,1,1,1,1,1,1,1,1,1,1,1,1,1,1,1]\n",
    "            gdf['burst_last'] =  [2,2,6,2,6,2,6,2,2,2,2,2,2,2,2,2,2,2,2,2,2,2,2,2,2,2,2,2,2,2]\n",
    "        if gdf.iloc[0]['relativeorbitnumber'] == 146:\n",
    "            gdf['burst_first'] = [2] * 30\n",
    "            gdf['burst_last'] =  [3] * 30\n",
    "    if gdf.iloc[0]['beginposition'].year == 2022:\n",
    "        if gdf.iloc[0]['relativeorbitnumber'] == 22:\n",
    "            gdf['burst_first'] = [1] * 15\n",
    "            gdf['burst_last'] =  [2] * 15\n",
    "        if gdf.iloc[0]['relativeorbitnumber'] == 73:\n",
    "            gdf['burst_first'] = [1] * 15\n",
    "            gdf['burst_last'] =  [2] * 15\n",
    "        if gdf.iloc[0]['relativeorbitnumber'] == 95:\n",
    "            gdf['burst_first'] = [1] * 15\n",
    "            gdf['burst_last'] =  [2] * 15\n",
    "        if gdf.iloc[0]['relativeorbitnumber'] == 146:\n",
    "            gdf['burst_first'] = [2] * 15\n",
    "            gdf['burst_last'] =  [3] * 15\n",
    "    return gdf\n",
    "\n",
    "def downloaded_files_to_gdf(year, orbits):\n",
    "    gdf_list = []\n",
    "    for orbit in orbits:\n",
    "        filenames_set = set([f'{fname[:-4]}*' for fname in listdir(join(ROOT_DIR, f's1_download/{year}/{orbit}'))])\n",
    "        query_result = api.query(filename=filenames_set)\n",
    "        \n",
    "        gdf = api.to_geodataframe(query_result)\n",
    "        gdf_removed_params = gdf.drop(columns=['title', 'link', 'link_alternative', 'link_icon', 'summary', 'ondemand', 'ingestiondate',\n",
    "            'missiondatatakeid', 'orbitnumber', 'lastorbitnumber', 'lastrelativeorbitnumber', 'slicenumber',\n",
    "            'format', 'status', 'sensoroperationalmode', 'swathidentifier', 'producttype', 'platformname',\n",
    "            'platformidentifier', 'instrumentname', 'instrumentshortname', 'productclass', 'polarisationmode',\n",
    "            'uuid', 'filename'])\n",
    "        gdf_added_params = add_bursts(add_subswath_from_ro(gdf_removed_params))\n",
    "        gdf_list.append(gdf_added_params)\n",
    "    \n",
    "    gdf_concat = pd.concat(gdf_list)\n",
    "    return gdf_concat\n"
   ]
  },
  {
   "cell_type": "code",
   "execution_count": null,
   "id": "c9a08491-f2f0-4fb9-b0be-ee0c6f69271a",
   "metadata": {},
   "outputs": [],
   "source": [
    "year = 2021\n",
    "orbits = (22,73,95,146)\n",
    "\n",
    "gdf_downloaded = downloaded_files_to_gdf(year, orbits)\n",
    "gdf_downloaded.to_file(join(ROOT_DIR, f'reference/{year}/slc_products_{year}.gpkg'))"
   ]
  },
  {
   "cell_type": "code",
   "execution_count": null,
   "id": "8f9cc62a-405a-439f-803f-b876a5db5393",
   "metadata": {},
   "outputs": [],
   "source": []
  }
 ],
 "metadata": {
  "kernelspec": {
   "display_name": "Python 3",
   "language": "python",
   "name": "python3"
  },
  "language_info": {
   "codemirror_mode": {
    "name": "ipython",
    "version": 3
   },
   "file_extension": ".py",
   "mimetype": "text/x-python",
   "name": "python",
   "nbconvert_exporter": "python",
   "pygments_lexer": "ipython3",
   "version": "3.9.1"
  }
 },
 "nbformat": 4,
 "nbformat_minor": 5
}
