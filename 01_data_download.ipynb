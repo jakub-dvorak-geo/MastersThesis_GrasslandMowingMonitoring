{
 "cells": [
  {
   "cell_type": "markdown",
   "id": "accepted-monaco",
   "metadata": {},
   "source": [
    "doplnit graf zobrazujici data porizeni snimku"
   ]
  },
  {
   "cell_type": "code",
   "execution_count": null,
   "id": "affecting-alloy",
   "metadata": {},
   "outputs": [],
   "source": [
    "# import libraries\n",
    "import sentinelsat\n",
    "from osgeo import ogr\n",
    "import geopandas\n",
    "import matplotlib.pyplot as plt\n",
    "\n",
    "from os import listdir\n",
    "from os.path import join"
   ]
  },
  {
   "cell_type": "code",
   "execution_count": null,
   "id": "a59084b6-bb3b-4d6c-a84b-5bbc005e897c",
   "metadata": {},
   "outputs": [],
   "source": [
    "ROOT_DIR = '/media/sf_JD/DP'"
   ]
  },
  {
   "cell_type": "code",
   "execution_count": null,
   "id": "unable-macintosh",
   "metadata": {},
   "outputs": [],
   "source": [
    "# read credentials from file\n",
    "def read_credentials(filename):\n",
    "    with open(filename, 'r') as txtfile:\n",
    "        username, password = txtfile.read().split()\n",
    "        return username, password\n",
    "\n",
    "username, password = read_credentials('credentials_api_hub.txt')\n",
    "print(username)\n",
    "print(password)"
   ]
  },
  {
   "cell_type": "code",
   "execution_count": null,
   "id": "d102f433-18a7-4b86-8c8e-08e2b008bbd6",
   "metadata": {},
   "outputs": [],
   "source": [
    "# Change ROI to only include correct files for RO 73"
   ]
  },
  {
   "cell_type": "code",
   "execution_count": null,
   "id": "prostate-catalog",
   "metadata": {},
   "outputs": [],
   "source": [
    "# parameters\n",
    "roi = 'POLYGON((15.425 50.74, 15.515 50.74, 15.515 50.635, 15.425 50.635, 15.425 50.74))'\n",
    "seasons = (('20210401', '20210930'), ('20220401', '20220930'))\n",
    "orbits = (22, 95, 73, 146)"
   ]
  },
  {
   "cell_type": "code",
   "execution_count": null,
   "id": "de91b466-b7d5-414e-a0eb-7671f6257c16",
   "metadata": {},
   "outputs": [],
   "source": [
    "# download files\n",
    "for season in seasons:\n",
    "    for orbit in orbits:\n",
    "        query_result = api.query(\n",
    "            date=season,\n",
    "            platformname='Sentinel-1',\n",
    "            raw=None,\n",
    "            area=roi,\n",
    "            area_relation='Contains',\n",
    "            order_by=None,\n",
    "            limit=200,\n",
    "            offset=0,\n",
    "            relativeorbitnumber=orbit,\n",
    "            producttype='SLC',\n",
    "            sensoroperationalmode='IW')\n",
    "        print(f'Query for RO {orbit} in {season[0][:4]} returned {len(query_result)} responses.')\n",
    "        download_dir = join(ROOT_DIR, f's1_download/{season[0][:4]}/{orbit}')\n",
    "        api.download_all(query_result, directory_path=download_dir, n_concurrent_dl=4)"
   ]
  },
  {
   "cell_type": "code",
   "execution_count": null,
   "id": "e332164f-2279-436f-b4d9-937b4fd43bd9",
   "metadata": {},
   "outputs": [],
   "source": [
    "# check files\n",
    "for season in seasons:\n",
    "    for orbit in orbits:\n",
    "        download_dir = join(ROOT_DIR, f's1_download/{season[0][:4]}/{orbit}')\n",
    "        download_list = [join(download_dir, filename) for filename in listdir(download_dir)]\n",
    "        broken_files = api.check_files(paths=download_list, delete=False).keys()\n",
    "        print(f'Files from {season[0][:4]}, RO {orbit} have {len(broken_files)} broken files.')"
   ]
  },
  {
   "cell_type": "code",
   "execution_count": null,
   "id": "8616f761-d7c2-4de0-a14a-10e2c4eae04b",
   "metadata": {},
   "outputs": [],
   "source": [
    "# visualise image boundaries"
   ]
  }
 ],
 "metadata": {
  "kernelspec": {
   "display_name": "Python 3 (ipykernel)",
   "language": "python",
   "name": "python3"
  },
  "language_info": {
   "codemirror_mode": {
    "name": "ipython",
    "version": 3
   },
   "file_extension": ".py",
   "mimetype": "text/x-python",
   "name": "python",
   "nbconvert_exporter": "python",
   "pygments_lexer": "ipython3",
   "version": "3.10.6"
  }
 },
 "nbformat": 4,
 "nbformat_minor": 5
}
