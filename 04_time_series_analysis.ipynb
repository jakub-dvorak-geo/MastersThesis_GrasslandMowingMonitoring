{
 "cells": [
  {
   "cell_type": "code",
   "execution_count": null,
   "id": "8ef70d12-9849-45aa-aa88-6536f16ad68d",
   "metadata": {},
   "outputs": [],
   "source": [
    "import geopandas as gpd\n",
    "import matplotlib.pyplot as plt\n",
    "from datetime import datetime\n",
    "\n",
    "from os.path import join"
   ]
  },
  {
   "cell_type": "code",
   "execution_count": null,
   "id": "09ab94c6-757a-494c-945c-e4e2028d325c",
   "metadata": {},
   "outputs": [],
   "source": [
    "ROOT_DIR = '/media/sf_JD/DP'\n",
    "inpath_vector = join(ROOT_DIR, 'reference/2021/vyjezdy_2021_zonal_stats.gpkg')"
   ]
  },
  {
   "cell_type": "code",
   "execution_count": null,
   "id": "1c7f0fc4-da2f-450d-b910-b456171f7da3",
   "metadata": {},
   "outputs": [],
   "source": [
    "class Time_series:\n",
    "    def __init__(self, year, relative_orbits=(22,73,95,146)):\n",
    "        self.year = year\n",
    "        self.sar_gdf = gpd.read_file(join(ROOT_DIR, 'reference', str(year), f'vyjezdy_{year}_zonal_stats.gpkg'))#inpath_vector)\n",
    "        # will need to be split based on RO\n",
    "        self.sar_keys = [key for key in self.sar_gdf.keys() if 'VV_' in key or 'VH_' in key]\n",
    "        # sar dates should be changed based on relative orbit - maybe a dict of ROs with sar dates for each?\n",
    "        self.sar_dates = list(set([datetime.strptime(key[7:16], '%Y_%m%d') for key in self.sar_keys]))\n",
    "        # for ro in ROs:\n",
    "        #     self.[ro].sar_dates = list(set([datetime.strptime(key[7:16], '%Y_%m%d') for key in self.[ro].sar_keys]))\n",
    "        #     self.[ro].sar_dates.sort()\n",
    "        self.sar_dates.sort()\n",
    "        self.metrics = self._extract_metrics()\n",
    "        \n",
    "        self.obs_gdf = self.sar_gdf.filter(regex='\\A\\d.*\\d\\Z', axis='columns')\n",
    "        self.obs_dates = [datetime.strptime(f'{year}_{date}', '%Y_%d_%m') for date in self.obs_gdf.keys()]\n",
    "        \n",
    "        \n",
    "    def _extract_metrics(self):\n",
    "        ros = set([i[:3] for i in self.sar_keys])\n",
    "        pols = set([i[4:6] for i in self.sar_keys])\n",
    "        stats = set([i[22:] for i in self.sar_keys])\n",
    "\n",
    "        metrics = {}\n",
    "        for ro in ros:\n",
    "            for stat in stats:\n",
    "                for pol in pols:\n",
    "                    cols = [coh for coh in self.sar_keys if stat in coh and pol in coh and ro in coh]\n",
    "                    cols.sort()\n",
    "                    metrics[f'{stat}_{pol}_RO{ro}'] = cols\n",
    "        return metrics\n",
    "        \n",
    "    def list_metrics(self):\n",
    "        print(self.metrics.keys())\n",
    "    \n",
    "    def plot_series_single(self, plot_idx=0, stat='mean', pol='VH', ro=146):\n",
    "        fig, ax1 = plt.subplots()\n",
    "\n",
    "        ax1.set_xlabel('Time')\n",
    "        ax1.set_ylabel('S1 Coherence', color = 'red') \n",
    "        ax1.set_ylim(0.25,0.5)\n",
    "        metric = f'{stat}_{pol}_RO{ro:03}'\n",
    "        y_coh = self.sar_gdf.iloc[plot_idx].loc[self.metrics[metric]]\n",
    "        plot_1 = ax1.plot(self.sar_dates, y_coh, color='red') \n",
    "        ax1.tick_params(axis ='y', labelcolor = 'red')\n",
    "\n",
    "        # Adding Twin Axes\n",
    "        ax2 = ax1.twinx() \n",
    "        ax2.set_ylabel('In situ grass height [cm]', color = 'green')\n",
    "        ax2.set_ylim(0,120)\n",
    "        plot_2 = ax2.bar(self.obs_dates, self.obs_gdf.iloc[plot_idx], color='green')\n",
    "        ax2.tick_params(axis ='y', labelcolor = 'green')\n",
    "\n",
    "        # Show plot\n",
    "        plt.show()\n",
    "    \n",
    "    def plot_series_all(self, stat='mean', pol='VH', ro=146):\n",
    "        fig, (axs) = plt.subplots(ncols=6, nrows=10, squeeze=False, sharex='all', sharey='all')\n",
    "        axs_flat = axs.flatten()\n",
    "        metric = f'{stat}_{pol}_RO{ro:03}'\n",
    "\n",
    "        for idx, row in enumerate(self.sar_gdf.iterrows()):\n",
    "            x = [datetime.strptime(string[7:16], '%Y_%m%d') for string in row[1][self.metrics[metric]].keys()]\n",
    "            y = row[1][self.metrics[metric]]\n",
    "            axs_flat[idx].plot(x, y)"
   ]
  },
  {
   "cell_type": "code",
   "execution_count": null,
   "id": "4f81b93b-03aa-4234-bdd8-dff1798ad133",
   "metadata": {},
   "outputs": [],
   "source": [
    "hello_world = Time_series(2021)"
   ]
  },
  {
   "cell_type": "code",
   "execution_count": null,
   "id": "6ae0b93d-c911-4803-b71b-7df4468a60c5",
   "metadata": {},
   "outputs": [],
   "source": [
    "hello_world.plot_series_single(plot_idx=16, ro=146)"
   ]
  },
  {
   "cell_type": "code",
   "execution_count": null,
   "id": "ec1ca324-0573-42c2-a983-bedceb8ff1dc",
   "metadata": {},
   "outputs": [],
   "source": [
    "hello_world.plot_series_all()"
   ]
  },
  {
   "cell_type": "code",
   "execution_count": null,
   "id": "afcd413c-3384-43e5-a729-ee590a65d5aa",
   "metadata": {},
   "outputs": [],
   "source": []
  }
 ],
 "metadata": {
  "kernelspec": {
   "display_name": "Python 3 (ipykernel)",
   "language": "python",
   "name": "python3"
  },
  "language_info": {
   "codemirror_mode": {
    "name": "ipython",
    "version": 3
   },
   "file_extension": ".py",
   "mimetype": "text/x-python",
   "name": "python",
   "nbconvert_exporter": "python",
   "pygments_lexer": "ipython3",
   "version": "3.10.6"
  }
 },
 "nbformat": 4,
 "nbformat_minor": 5
}
