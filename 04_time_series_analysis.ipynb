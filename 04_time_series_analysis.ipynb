{
 "cells": [
  {
   "cell_type": "code",
   "execution_count": null,
   "id": "8ef70d12-9849-45aa-aa88-6536f16ad68d",
   "metadata": {},
   "outputs": [],
   "source": [
    "import geopandas as gpd\n",
    "import matplotlib.pyplot as plt\n",
    "from datetime import datetime\n",
    "import rasterio\n",
    "import rasterio.plot\n",
    "\n",
    "from os.path import join"
   ]
  },
  {
   "cell_type": "code",
   "execution_count": null,
   "id": "09ab94c6-757a-494c-945c-e4e2028d325c",
   "metadata": {},
   "outputs": [],
   "source": [
    "ROOT_DIR = '/media/sf_JD/DP'\n",
    "inpath_vector = join(ROOT_DIR, 'reference/2021/vyjezdy_2021_zonal_stats.gpkg')"
   ]
  },
  {
   "cell_type": "code",
   "execution_count": null,
   "id": "1c7f0fc4-da2f-450d-b910-b456171f7da3",
   "metadata": {},
   "outputs": [],
   "source": [
    "class Time_series:\n",
    "    def __init__(self, year, relative_orbits=(22,73,95,146)):\n",
    "        self.year = year\n",
    "        self.relative_orbits = relative_orbits\n",
    "        self.sar_gdf = gpd.read_file(join(ROOT_DIR, f'reference/{str(year)}/vyjezdy_{year}_zonal_stats.gpkg'))\n",
    "\n",
    "        self.sar_keys = dict.fromkeys(relative_orbits)\n",
    "        self.sar_dates = dict.fromkeys(relative_orbits)\n",
    "        for ro in relative_orbits:\n",
    "            self.sar_keys[ro] = list(key for key in self.sar_gdf.keys() if f'{ro}_VV_' in key or f'{ro}_VH_' in key)\n",
    "            self.sar_dates[ro] = list(set([datetime.strptime(key[7:16], '%Y_%m%d') for key in self.sar_keys[ro]]))\n",
    "            self.sar_dates[ro].sort()\n",
    "        self.metrics = self._extract_metrics()\n",
    "        \n",
    "        self.obs_gdf = self.sar_gdf.filter(regex='\\A\\d.*\\d\\Z', axis='columns')\n",
    "        self.obs_dates = [datetime.strptime(f'{year}_{date}', '%Y_%d_%m') for date in self.obs_gdf.keys()]\n",
    "        \n",
    "        with rasterio.open(join(ROOT_DIR, 'DTM/DMR_4G_4326.tif')) as src:\n",
    "            self.dmr = src.read(1)\n",
    "            self.dmr_transform = src.transform\n",
    "        \n",
    "    def _extract_metrics(self):\n",
    "        metrics = {}\n",
    "        for ro in self.relative_orbits:\n",
    "            pols = set([i[4:6] for i in self.sar_keys[ro]])\n",
    "            stats = set([i[22:] for i in self.sar_keys[ro]])\n",
    "            for stat in stats:\n",
    "                for pol in pols:\n",
    "                    cols = [coh for coh in self.sar_keys[ro] if stat in coh and pol in coh]\n",
    "                    cols.sort()\n",
    "                    metrics[f'{stat}_{pol}_RO-{ro:03}'] = cols\n",
    "        return metrics\n",
    "        \n",
    "    def list_metrics(self):\n",
    "        print(self.metrics.keys())\n",
    "    \n",
    "    def _add_twinx_axis(self, ax1, plot_id):\n",
    "        # Adding Twin Axes\n",
    "        ax2 = ax1.twinx() \n",
    "        ax2.set_ylabel('In situ grass height [cm]', color = 'green')\n",
    "        ax2.set_ylim(0,120)\n",
    "        plot_2 = ax2.bar(self.obs_dates, self.obs_gdf.iloc[plot_id], width=2, color='green')\n",
    "        ax2.tick_params(axis ='y', labelcolor = 'green')\n",
    "    \n",
    "    def plot_single_ro(self, plot_idx=0, pol='VH', ro=146, stats=('mean','median','std')):\n",
    "        fig, ax1 = plt.subplots()\n",
    "\n",
    "        ax1.set_xlabel('Time')\n",
    "        ax1.set_ylabel('S1 Coherence', color = 'black')\n",
    "        #ax1.set_ylim(0.25,0.5)\n",
    "        ax1.tick_params(axis ='y', labelcolor = 'black')\n",
    "        \n",
    "        for stat in stats:\n",
    "            metric = f'{stat}_{pol}_RO-{ro:03}'\n",
    "            y_coh = self.sar_gdf.iloc[plot_idx].loc[self.metrics[metric]]\n",
    "            ax1.plot(self.sar_dates[ro], y_coh, label=stat)\n",
    "        ax1.legend(loc='upper left')\n",
    "\n",
    "        # Add twin axis for in-situ measurements\n",
    "        self._add_twinx_axis(ax1, plot_idx)\n",
    "\n",
    "        # Show plot\n",
    "        plt.show()\n",
    "        \n",
    "    def plot_single_roi(self, plot_idx=0, pol='VH', relative_orbits=(22,73,95,146), stat='mean'):\n",
    "        fig, (ax1, ax_map) = plt.subplots(1, 2, figsize=(20,5))\n",
    "        fig.suptitle(f'Coherence {stat} for plot #{plot_idx}')\n",
    "        \n",
    "        ax1.set_xlabel('Time')\n",
    "        ax1.set_ylabel('S1 Coherence', color = 'black')\n",
    "        #ax1.set_ylim(0.25,0.5)\n",
    "        ax1.tick_params(axis ='y', labelcolor = 'black')\n",
    "        \n",
    "        for ro in relative_orbits:\n",
    "            metric = f'{stat}_{pol}_RO-{ro:03}'\n",
    "            y_coh = self.sar_gdf.iloc[plot_idx].loc[self.metrics[metric]]\n",
    "            ax1.plot(self.sar_dates[ro], y_coh, label=ro)\n",
    "        ax1.legend(loc='upper left')\n",
    "\n",
    "        # Add twin axis for in-situ measurements\n",
    "        self._add_twinx_axis(ax1, plot_idx)\n",
    "\n",
    "        self.sar_gdf.iloc[[plot_idx]].boundary.plot(ax=ax_map)\n",
    "        xlim, ylim = ax_map.get_xlim(), ax_map.get_ylim()\n",
    "\n",
    "        rasterio.plot.show(self.dmr, contour=True, ax=ax_map, levels=60, alpha = 0.7,\n",
    "                           vmin=550, vmax=850, transform=self.dmr_transform, cmap='Greys_r')\n",
    "        self.sar_gdf.boundary.plot(ax=ax_map, color='black')\n",
    "        self.sar_gdf.iloc[[plot_idx]].boundary.plot(ax=ax_map, color='green')\n",
    "        map_buffer = 0.005\n",
    "        ax_map.set_xlim(xlim[0] - map_buffer, xlim[1] + map_buffer)\n",
    "        ax_map.set_ylim(ylim[0] - map_buffer, ylim[1] + map_buffer)\n",
    "\n",
    "        # Show plot\n",
    "        plt.show()\n",
    "    \n",
    "    def plot_series_all(self, stat='mean', pol='VH', ro=146):\n",
    "        fig, (axs) = plt.subplots(ncols=6, nrows=10, squeeze=False, sharex='all', sharey='all')\n",
    "        axs_flat = axs.flatten()\n",
    "        metric = f'{stat}_{pol}_RO-{ro:03}'\n",
    "\n",
    "        for idx, row in enumerate(self.sar_gdf.iterrows()):\n",
    "            x = [datetime.strptime(string[7:16], '%Y_%m%d') for string in row[1][self.metrics[metric]].keys()]\n",
    "            y = row[1][self.metrics[metric]]\n",
    "            axs_flat[idx].plot(x, y)"
   ]
  },
  {
   "cell_type": "code",
   "execution_count": null,
   "id": "4f81b93b-03aa-4234-bdd8-dff1798ad133",
   "metadata": {},
   "outputs": [],
   "source": [
    "hello_world = Time_series(2021)"
   ]
  },
  {
   "cell_type": "code",
   "execution_count": null,
   "id": "6ae0b93d-c911-4803-b71b-7df4468a60c5",
   "metadata": {},
   "outputs": [],
   "source": [
    "hello_world.plot_single_ro(plot_idx=19, ro=146, stats=('median', 'mean'))"
   ]
  },
  {
   "cell_type": "code",
   "execution_count": null,
   "id": "608933f7-4619-45d2-acb4-fa1201939580",
   "metadata": {},
   "outputs": [],
   "source": [
    "hello_world.plot_single_roi(plot_idx=10, relative_orbits=(22,73,95,146), stat='median')"
   ]
  },
  {
   "cell_type": "code",
   "execution_count": null,
   "id": "b102953b-3b8b-4dbd-9137-ee9e718b31ad",
   "metadata": {},
   "outputs": [],
   "source": [
    "hello_world.sar_dates[95]"
   ]
  },
  {
   "cell_type": "code",
   "execution_count": null,
   "id": "ec1ca324-0573-42c2-a983-bedceb8ff1dc",
   "metadata": {},
   "outputs": [],
   "source": [
    "hello_world.plot_series_all()"
   ]
  },
  {
   "cell_type": "code",
   "execution_count": null,
   "id": "bb798363-065f-463f-8182-3ffd078ceb0d",
   "metadata": {},
   "outputs": [],
   "source": []
  }
 ],
 "metadata": {
  "kernelspec": {
   "display_name": "Python 3 (ipykernel)",
   "language": "python",
   "name": "python3"
  },
  "language_info": {
   "codemirror_mode": {
    "name": "ipython",
    "version": 3
   },
   "file_extension": ".py",
   "mimetype": "text/x-python",
   "name": "python",
   "nbconvert_exporter": "python",
   "pygments_lexer": "ipython3",
   "version": "3.10.6"
  }
 },
 "nbformat": 4,
 "nbformat_minor": 5
}
