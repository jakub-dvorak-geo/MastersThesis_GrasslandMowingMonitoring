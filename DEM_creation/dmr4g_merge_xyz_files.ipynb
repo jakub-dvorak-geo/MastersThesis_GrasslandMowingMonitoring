{
 "cells": [
  {
   "cell_type": "code",
   "execution_count": null,
   "id": "resistant-tanzania",
   "metadata": {},
   "outputs": [],
   "source": [
    "import os\n",
    "import pandas as pd\n",
    "import geopandas"
   ]
  },
  {
   "cell_type": "code",
   "execution_count": null,
   "id": "sharp-apartment",
   "metadata": {},
   "outputs": [],
   "source": [
    "data_dir = r'C:\\Users\\dd\\Documents\\NATUR_CUNI\\_dp\\DEM\\DMR4G_code'\n",
    "out_dir = r'C:\\Users\\dd\\Documents\\NATUR_CUNI\\_dp\\DEM'"
   ]
  },
  {
   "cell_type": "code",
   "execution_count": null,
   "id": "common-alignment",
   "metadata": {},
   "outputs": [],
   "source": [
    "def combine_vectors(data_dir):\n",
    "    def load_file(patch_path):\n",
    "        df = pd.read_csv(patch_path, sep = ' ', names = ('X', 'Y', 'Z'))\n",
    "        gdf = geopandas.GeoDataFrame(\n",
    "            df.Z, geometry=geopandas.points_from_xy(df.X, df.Y), crs=\"EPSG:5514\")\n",
    "        gdf.sindex\n",
    "        return gdf\n",
    "\n",
    "    listdir = os.listdir(data_dir)\n",
    "    gdf = load_file(os.path.join(data_dir, listdir.pop(0)))\n",
    "    print(f'Current size {gdf.shape}')\n",
    "    \n",
    "    for file in listdir:\n",
    "        gdf_new = load_file(os.path.join(data_dir, file))\n",
    "        gdf = gdf.append(gdf_new, ignore_index=True)\n",
    "        #gdf = gdf.overlay(gdf_new, how='union')\n",
    "        #gdf = geopandas.overlay(gdf, gdf_new, how = 'union')\n",
    "        print(f'Current size {gdf.shape}')\n",
    "\n",
    "    return gdf\n",
    "\n",
    "def write_merged(out_dir, gdf):\n",
    "        gdf.to_file(os.path.join(out_dir, 'dmr4g_merged.gpkg'),\n",
    "                    driver='GPKG', layer='dmr4g')"
   ]
  },
  {
   "cell_type": "code",
   "execution_count": null,
   "id": "smart-jewel",
   "metadata": {},
   "outputs": [],
   "source": [
    "combined_vectors = combine_vectors(data_dir)\n",
    "print('Vectors combined')\n",
    "write_merged(out_dir, combined_vectors)"
   ]
  },
  {
   "cell_type": "code",
   "execution_count": null,
   "id": "acoustic-copyright",
   "metadata": {},
   "outputs": [],
   "source": []
  }
 ],
 "metadata": {
  "kernelspec": {
   "display_name": "Python 3",
   "language": "python",
   "name": "python3"
  },
  "language_info": {
   "codemirror_mode": {
    "name": "ipython",
    "version": 3
   },
   "file_extension": ".py",
   "mimetype": "text/x-python",
   "name": "python",
   "nbconvert_exporter": "python",
   "pygments_lexer": "ipython3",
   "version": "3.9.1"
  }
 },
 "nbformat": 4,
 "nbformat_minor": 5
}
